{
  "nbformat": 4,
  "nbformat_minor": 0,
  "metadata": {
    "colab": {
      "provenance": [],
      "include_colab_link": true
    },
    "kernelspec": {
      "name": "python3",
      "display_name": "Python 3"
    },
    "language_info": {
      "name": "python"
    }
  },
  "cells": [
    {
      "cell_type": "markdown",
      "metadata": {
        "id": "view-in-github",
        "colab_type": "text"
      },
      "source": [
        "<a href=\"https://colab.research.google.com/github/ArjunDandagi/cs145/blob/main/Distributed_Systems.ipynb\" target=\"_parent\"><img src=\"https://colab.research.google.com/assets/colab-badge.svg\" alt=\"Open In Colab\"/></a>"
      ]
    },
    {
      "cell_type": "markdown",
      "source": [
        "# Section 1: Distributed Message Queues and Communication"
      ],
      "metadata": {
        "id": "AbqAzTFUNJrT"
      }
    },
    {
      "cell_type": "code",
      "source": [
        "!pip install ratelimit"
      ],
      "metadata": {
        "id": "ZBnZLYnNNgWu",
        "colab": {
          "base_uri": "https://localhost:8080/"
        },
        "outputId": "a7bfb88a-d93b-4417-a1cc-dd3458e408de"
      },
      "execution_count": null,
      "outputs": [
        {
          "output_type": "stream",
          "name": "stdout",
          "text": [
            "Looking in indexes: https://pypi.org/simple, https://us-python.pkg.dev/colab-wheels/public/simple/\n",
            "Collecting ratelimit\n",
            "  Downloading ratelimit-2.2.1.tar.gz (5.3 kB)\n",
            "  Preparing metadata (setup.py) ... \u001b[?25l\u001b[?25hdone\n",
            "Building wheels for collected packages: ratelimit\n",
            "  Building wheel for ratelimit (setup.py) ... \u001b[?25l\u001b[?25hdone\n",
            "  Created wheel for ratelimit: filename=ratelimit-2.2.1-py3-none-any.whl size=5893 sha256=06b157281092f235413847a56d589f3b69be827e77e236243d8f6391aadcb2eb\n",
            "  Stored in directory: /root/.cache/pip/wheels/27/5f/ba/e972a56dcbf5de9f2b7d2b2a710113970bd173c4dcd3d2c902\n",
            "Successfully built ratelimit\n",
            "Installing collected packages: ratelimit\n",
            "Successfully installed ratelimit-2.2.1\n"
          ]
        }
      ]
    },
    {
      "cell_type": "code",
      "source": [
        "import sqlite3\n",
        "import json\n",
        "\n",
        "\"\"\"Below is a trivial implementation of a MessageQueue. The main operations are\n",
        "enqueue and dequeue. In practice, we'd use popular, scalable packages\n",
        "(Kafka, RabbitMQ0 or services (e.g., AWS's Simple Queue Service)\n",
        "\"\"\"\n",
        "class MessageQueue:\n",
        "    def __init__(self, db_name='message_queue.db'):\n",
        "        self.db_name = db_name\n",
        "        self.create_queue_table()\n",
        "\n",
        "    def create_queue_table(self):\n",
        "        conn = sqlite3.connect(self.db_name)\n",
        "        c = conn.cursor()\n",
        "        c.execute('''CREATE TABLE IF NOT EXISTS message_queue \\\n",
        "                  (id INTEGER PRIMARY KEY, topic TEXT, message TEXT)''')\n",
        "        conn.commit()\n",
        "        conn.close()\n",
        "\n",
        "    def enqueue(self, topic, message):\n",
        "        conn = sqlite3.connect(self.db_name)\n",
        "        c = conn.cursor()\n",
        "        c.execute(\"INSERT INTO message_queue (topic, message) \\\n",
        "                  VALUES (?, ?)\", (topic, json.dumps(message)))\n",
        "        conn.commit()\n",
        "        conn.close()\n",
        "\n",
        "    def dequeue(self, topic):\n",
        "        conn = sqlite3.connect(self.db_name)\n",
        "        c = conn.cursor()\n",
        "        c.execute(\"SELECT id, message FROM message_queue WHERE topic=? \\\n",
        "                  ORDER BY id ASC LIMIT 1\", (topic,))\n",
        "        row = c.fetchone()\n",
        "        if row:\n",
        "            message_id, message = row\n",
        "            c.execute(\"DELETE FROM message_queue WHERE id=?\", (message_id,))\n",
        "            conn.commit()\n",
        "            return json.loads(message)\n",
        "        conn.close()\n",
        "        return None"
      ],
      "metadata": {
        "id": "8B4e-ErFNg8d"
      },
      "execution_count": null,
      "outputs": []
    },
    {
      "cell_type": "code",
      "source": [
        "\"\"\"\n",
        "Example Producer for Concert Ticket purchases\n",
        "\"\"\"\n",
        "import time\n",
        "from datetime import datetime, timedelta\n",
        "\n",
        "import random\n",
        "\n",
        "# Helper function to generate random IP addresses\n",
        "def random_ip():\n",
        "    return \".\".join(map(str, (random.randint(0, 255) for _ in range(4))))\n",
        "\n",
        "# Initialize the MessageQueue\n",
        "mq = MessageQueue()\n",
        "\n",
        "# Generate ticket purchase events and add them to the message queue\n",
        "for i in range(100):\n",
        "    purchase = {\n",
        "        \"user_id\": random.randint(1, 50),\n",
        "        \"ip_address\": random_ip(),\n",
        "        \"event_id\": random.randint(1, 10),\n",
        "        \"num_tickets\": random.randint(1, 6),\n",
        "        \"timestamp\": datetime.now().strftime('%Y-%m-%d %H:%M:%S')\n",
        "    }\n",
        "    mq.enqueue(\"ticket_purchase\", purchase)\n",
        "    #time.sleep(random.uniform(0.0, 0.1))  # Wait for a random period before generating the next event"
      ],
      "metadata": {
        "id": "-Fh7MBBjNljB"
      },
      "execution_count": null,
      "outputs": []
    },
    {
      "cell_type": "code",
      "source": [
        "import json, time\n",
        "from datetime import datetime, timedelta\n",
        "from ratelimit import limits, sleep_and_retry\n",
        "\n",
        "\"\"\"\n",
        "Example consumer for Concert tickets\n",
        "\"\"\"\n",
        "# Parameters for fraud detection\n",
        "purchase_threshold = 5  # Threshold for the number of tickets purchased by a user\n",
        "ip_threshold = 3  # Threshold for the number of purchases from the same IP address\n",
        "time_window = timedelta(minutes=10)\n",
        "\n",
        "# Dictionary to store the count of ticket purchases per user and IP address\n",
        "user_purchase_count = {}\n",
        "ip_purchase_count = {}\n",
        "\n",
        "mq = MessageQueue()\n",
        "\n",
        "@sleep_and_retry\n",
        "@limits(calls=10, period=1)  # Rate limiting to mitigate DDoS attacks\n",
        "def process_ticket_purchase(purchase):\n",
        "    # Add the ticket purchase event to the distributed database\n",
        "\n",
        "    # Perform fraud detection using a more sophisticated algorithm\n",
        "    # that leverages machine learning techniques, such as clustering,\n",
        "    # anomaly detection, or supervised learning models\n",
        "    print(f'    Processing: {purchase=}')\n",
        "    pass\n",
        "\n",
        "while True:\n",
        "    purchase = mq.dequeue(\"ticket_purchase\")\n",
        "    if purchase:\n",
        "        # Update the user and IP address purchase count\n",
        "        user_id = purchase[\"user_id\"]\n",
        "        ip_address = purchase[\"ip_address\"]\n",
        "        user_purchase_count[user_id] = user_purchase_count.get(user_id, 0) + 1\n",
        "        ip_purchase_count[ip_address] = ip_purchase_count.get(ip_address, 0) + 1\n",
        "\n",
        "        # Process the ticket purchase and perform fraud detection\n",
        "        process_ticket_purchase(purchase)\n",
        "\n",
        "        # Flag 'outlier' users\n",
        "        # Eg., too many purchases or from same IP address\n",
        "        if user_purchase_count[user_id] >= purchase_threshold or \\\n",
        "          ip_purchase_count[ip_address] >= ip_threshold:\n",
        "            # Flag the user as suspicious\n",
        "            print(f'====> Suspicious user:{user_id=}, {ip_purchase_count=}')\n",
        "            pass\n",
        "    else:\n",
        "        break\n",
        "        # time.sleep(1)  # Wait for a short period before checking the queue again\n"
      ],
      "metadata": {
        "id": "VEILrH3NNpHI",
        "colab": {
          "base_uri": "https://localhost:8080/"
        },
        "outputId": "0fbd0ce7-c477-4c96-8c02-d003f3014680"
      },
      "execution_count": null,
      "outputs": [
        {
          "output_type": "stream",
          "name": "stdout",
          "text": [
            "    Processing: purchase={'user_id': 12, 'ip_address': '70.85.66.59', 'event_id': 1, 'num_tickets': 2, 'timestamp': '2023-05-16 16:47:29'}\n",
            "    Processing: purchase={'user_id': 35, 'ip_address': '245.50.190.23', 'event_id': 4, 'num_tickets': 6, 'timestamp': '2023-05-16 16:47:29'}\n",
            "    Processing: purchase={'user_id': 22, 'ip_address': '193.90.33.152', 'event_id': 5, 'num_tickets': 2, 'timestamp': '2023-05-16 16:47:29'}\n",
            "    Processing: purchase={'user_id': 9, 'ip_address': '160.56.135.8', 'event_id': 1, 'num_tickets': 4, 'timestamp': '2023-05-16 16:47:29'}\n",
            "    Processing: purchase={'user_id': 33, 'ip_address': '246.54.177.253', 'event_id': 5, 'num_tickets': 1, 'timestamp': '2023-05-16 16:47:29'}\n",
            "    Processing: purchase={'user_id': 49, 'ip_address': '75.220.31.173', 'event_id': 3, 'num_tickets': 2, 'timestamp': '2023-05-16 16:47:29'}\n",
            "    Processing: purchase={'user_id': 33, 'ip_address': '108.8.176.215', 'event_id': 6, 'num_tickets': 5, 'timestamp': '2023-05-16 16:47:29'}\n",
            "    Processing: purchase={'user_id': 10, 'ip_address': '158.102.101.31', 'event_id': 1, 'num_tickets': 3, 'timestamp': '2023-05-16 16:47:29'}\n",
            "    Processing: purchase={'user_id': 43, 'ip_address': '225.4.14.195', 'event_id': 2, 'num_tickets': 4, 'timestamp': '2023-05-16 16:47:29'}\n",
            "    Processing: purchase={'user_id': 3, 'ip_address': '118.12.44.174', 'event_id': 6, 'num_tickets': 6, 'timestamp': '2023-05-16 16:47:29'}\n",
            "    Processing: purchase={'user_id': 19, 'ip_address': '188.251.57.59', 'event_id': 8, 'num_tickets': 3, 'timestamp': '2023-05-16 16:47:29'}\n",
            "    Processing: purchase={'user_id': 36, 'ip_address': '7.243.230.132', 'event_id': 2, 'num_tickets': 5, 'timestamp': '2023-05-16 16:47:29'}\n",
            "    Processing: purchase={'user_id': 35, 'ip_address': '194.238.44.2', 'event_id': 6, 'num_tickets': 5, 'timestamp': '2023-05-16 16:47:29'}\n",
            "    Processing: purchase={'user_id': 41, 'ip_address': '232.86.226.167', 'event_id': 10, 'num_tickets': 3, 'timestamp': '2023-05-16 16:47:29'}\n",
            "    Processing: purchase={'user_id': 41, 'ip_address': '80.44.95.164', 'event_id': 10, 'num_tickets': 1, 'timestamp': '2023-05-16 16:47:29'}\n",
            "    Processing: purchase={'user_id': 42, 'ip_address': '69.143.191.63', 'event_id': 3, 'num_tickets': 2, 'timestamp': '2023-05-16 16:47:29'}\n",
            "    Processing: purchase={'user_id': 26, 'ip_address': '184.217.201.220', 'event_id': 6, 'num_tickets': 5, 'timestamp': '2023-05-16 16:47:29'}\n",
            "    Processing: purchase={'user_id': 47, 'ip_address': '111.47.85.20', 'event_id': 3, 'num_tickets': 5, 'timestamp': '2023-05-16 16:47:29'}\n",
            "    Processing: purchase={'user_id': 48, 'ip_address': '213.137.138.127', 'event_id': 7, 'num_tickets': 4, 'timestamp': '2023-05-16 16:47:29'}\n",
            "    Processing: purchase={'user_id': 38, 'ip_address': '247.39.242.48', 'event_id': 1, 'num_tickets': 5, 'timestamp': '2023-05-16 16:47:29'}\n",
            "    Processing: purchase={'user_id': 42, 'ip_address': '183.28.164.193', 'event_id': 6, 'num_tickets': 2, 'timestamp': '2023-05-16 16:47:29'}\n",
            "    Processing: purchase={'user_id': 10, 'ip_address': '212.207.163.181', 'event_id': 3, 'num_tickets': 4, 'timestamp': '2023-05-16 16:47:29'}\n",
            "    Processing: purchase={'user_id': 12, 'ip_address': '148.107.2.4', 'event_id': 3, 'num_tickets': 1, 'timestamp': '2023-05-16 16:47:29'}\n",
            "    Processing: purchase={'user_id': 4, 'ip_address': '103.9.178.147', 'event_id': 9, 'num_tickets': 3, 'timestamp': '2023-05-16 16:47:29'}\n",
            "    Processing: purchase={'user_id': 17, 'ip_address': '108.183.187.90', 'event_id': 10, 'num_tickets': 2, 'timestamp': '2023-05-16 16:47:29'}\n",
            "    Processing: purchase={'user_id': 5, 'ip_address': '23.139.244.178', 'event_id': 6, 'num_tickets': 2, 'timestamp': '2023-05-16 16:47:29'}\n",
            "    Processing: purchase={'user_id': 10, 'ip_address': '99.148.66.79', 'event_id': 9, 'num_tickets': 1, 'timestamp': '2023-05-16 16:47:29'}\n",
            "    Processing: purchase={'user_id': 15, 'ip_address': '233.38.123.162', 'event_id': 10, 'num_tickets': 1, 'timestamp': '2023-05-16 16:47:29'}\n",
            "    Processing: purchase={'user_id': 21, 'ip_address': '129.67.213.169', 'event_id': 10, 'num_tickets': 5, 'timestamp': '2023-05-16 16:47:29'}\n",
            "    Processing: purchase={'user_id': 11, 'ip_address': '74.52.131.141', 'event_id': 5, 'num_tickets': 5, 'timestamp': '2023-05-16 16:47:29'}\n",
            "    Processing: purchase={'user_id': 21, 'ip_address': '131.242.128.233', 'event_id': 6, 'num_tickets': 4, 'timestamp': '2023-05-16 16:47:29'}\n",
            "    Processing: purchase={'user_id': 33, 'ip_address': '9.7.96.207', 'event_id': 1, 'num_tickets': 3, 'timestamp': '2023-05-16 16:47:29'}\n",
            "    Processing: purchase={'user_id': 2, 'ip_address': '233.35.37.126', 'event_id': 9, 'num_tickets': 3, 'timestamp': '2023-05-16 16:47:29'}\n",
            "    Processing: purchase={'user_id': 12, 'ip_address': '222.238.48.237', 'event_id': 2, 'num_tickets': 3, 'timestamp': '2023-05-16 16:47:29'}\n",
            "    Processing: purchase={'user_id': 42, 'ip_address': '27.13.85.49', 'event_id': 1, 'num_tickets': 3, 'timestamp': '2023-05-16 16:47:29'}\n",
            "    Processing: purchase={'user_id': 41, 'ip_address': '146.207.210.78', 'event_id': 4, 'num_tickets': 2, 'timestamp': '2023-05-16 16:47:29'}\n",
            "    Processing: purchase={'user_id': 33, 'ip_address': '201.190.202.94', 'event_id': 4, 'num_tickets': 2, 'timestamp': '2023-05-16 16:47:29'}\n",
            "    Processing: purchase={'user_id': 36, 'ip_address': '208.231.99.19', 'event_id': 8, 'num_tickets': 5, 'timestamp': '2023-05-16 16:47:29'}\n",
            "    Processing: purchase={'user_id': 36, 'ip_address': '200.239.48.31', 'event_id': 9, 'num_tickets': 3, 'timestamp': '2023-05-16 16:47:29'}\n",
            "    Processing: purchase={'user_id': 13, 'ip_address': '32.237.81.15', 'event_id': 2, 'num_tickets': 2, 'timestamp': '2023-05-16 16:47:29'}\n",
            "    Processing: purchase={'user_id': 3, 'ip_address': '220.214.102.112', 'event_id': 10, 'num_tickets': 4, 'timestamp': '2023-05-16 16:47:29'}\n",
            "    Processing: purchase={'user_id': 24, 'ip_address': '183.69.93.91', 'event_id': 4, 'num_tickets': 6, 'timestamp': '2023-05-16 16:47:29'}\n",
            "    Processing: purchase={'user_id': 14, 'ip_address': '127.151.151.173', 'event_id': 8, 'num_tickets': 3, 'timestamp': '2023-05-16 16:47:29'}\n",
            "    Processing: purchase={'user_id': 12, 'ip_address': '138.116.121.252', 'event_id': 10, 'num_tickets': 2, 'timestamp': '2023-05-16 16:47:29'}\n",
            "    Processing: purchase={'user_id': 35, 'ip_address': '71.25.0.90', 'event_id': 5, 'num_tickets': 6, 'timestamp': '2023-05-16 16:47:29'}\n",
            "    Processing: purchase={'user_id': 47, 'ip_address': '27.121.213.200', 'event_id': 2, 'num_tickets': 3, 'timestamp': '2023-05-16 16:47:29'}\n",
            "    Processing: purchase={'user_id': 18, 'ip_address': '181.163.91.121', 'event_id': 5, 'num_tickets': 4, 'timestamp': '2023-05-16 16:47:29'}\n",
            "    Processing: purchase={'user_id': 45, 'ip_address': '29.54.113.93', 'event_id': 3, 'num_tickets': 6, 'timestamp': '2023-05-16 16:47:29'}\n",
            "    Processing: purchase={'user_id': 14, 'ip_address': '48.241.178.250', 'event_id': 6, 'num_tickets': 6, 'timestamp': '2023-05-16 16:47:29'}\n",
            "    Processing: purchase={'user_id': 46, 'ip_address': '254.92.200.226', 'event_id': 2, 'num_tickets': 2, 'timestamp': '2023-05-16 16:47:29'}\n",
            "    Processing: purchase={'user_id': 13, 'ip_address': '129.20.247.17', 'event_id': 9, 'num_tickets': 5, 'timestamp': '2023-05-16 16:47:29'}\n",
            "    Processing: purchase={'user_id': 40, 'ip_address': '56.4.176.195', 'event_id': 8, 'num_tickets': 6, 'timestamp': '2023-05-16 16:47:29'}\n",
            "    Processing: purchase={'user_id': 38, 'ip_address': '135.225.174.121', 'event_id': 6, 'num_tickets': 6, 'timestamp': '2023-05-16 16:47:29'}\n",
            "    Processing: purchase={'user_id': 34, 'ip_address': '137.74.140.135', 'event_id': 9, 'num_tickets': 1, 'timestamp': '2023-05-16 16:47:29'}\n",
            "    Processing: purchase={'user_id': 44, 'ip_address': '107.22.65.204', 'event_id': 5, 'num_tickets': 5, 'timestamp': '2023-05-16 16:47:29'}\n",
            "    Processing: purchase={'user_id': 18, 'ip_address': '56.43.145.87', 'event_id': 9, 'num_tickets': 3, 'timestamp': '2023-05-16 16:47:29'}\n",
            "    Processing: purchase={'user_id': 45, 'ip_address': '76.172.73.81', 'event_id': 3, 'num_tickets': 6, 'timestamp': '2023-05-16 16:47:30'}\n",
            "    Processing: purchase={'user_id': 12, 'ip_address': '145.131.115.120', 'event_id': 3, 'num_tickets': 1, 'timestamp': '2023-05-16 16:47:30'}\n",
            "====> Suspicious user:user_id=12, ip_purchase_count={'70.85.66.59': 1, '245.50.190.23': 1, '193.90.33.152': 1, '160.56.135.8': 1, '246.54.177.253': 1, '75.220.31.173': 1, '108.8.176.215': 1, '158.102.101.31': 1, '225.4.14.195': 1, '118.12.44.174': 1, '188.251.57.59': 1, '7.243.230.132': 1, '194.238.44.2': 1, '232.86.226.167': 1, '80.44.95.164': 1, '69.143.191.63': 1, '184.217.201.220': 1, '111.47.85.20': 1, '213.137.138.127': 1, '247.39.242.48': 1, '183.28.164.193': 1, '212.207.163.181': 1, '148.107.2.4': 1, '103.9.178.147': 1, '108.183.187.90': 1, '23.139.244.178': 1, '99.148.66.79': 1, '233.38.123.162': 1, '129.67.213.169': 1, '74.52.131.141': 1, '131.242.128.233': 1, '9.7.96.207': 1, '233.35.37.126': 1, '222.238.48.237': 1, '27.13.85.49': 1, '146.207.210.78': 1, '201.190.202.94': 1, '208.231.99.19': 1, '200.239.48.31': 1, '32.237.81.15': 1, '220.214.102.112': 1, '183.69.93.91': 1, '127.151.151.173': 1, '138.116.121.252': 1, '71.25.0.90': 1, '27.121.213.200': 1, '181.163.91.121': 1, '29.54.113.93': 1, '48.241.178.250': 1, '254.92.200.226': 1, '129.20.247.17': 1, '56.4.176.195': 1, '135.225.174.121': 1, '137.74.140.135': 1, '107.22.65.204': 1, '56.43.145.87': 1, '76.172.73.81': 1, '145.131.115.120': 1}\n",
            "    Processing: purchase={'user_id': 16, 'ip_address': '75.223.32.246', 'event_id': 9, 'num_tickets': 2, 'timestamp': '2023-05-16 16:47:30'}\n",
            "    Processing: purchase={'user_id': 12, 'ip_address': '219.8.142.88', 'event_id': 2, 'num_tickets': 1, 'timestamp': '2023-05-16 16:47:30'}\n",
            "====> Suspicious user:user_id=12, ip_purchase_count={'70.85.66.59': 1, '245.50.190.23': 1, '193.90.33.152': 1, '160.56.135.8': 1, '246.54.177.253': 1, '75.220.31.173': 1, '108.8.176.215': 1, '158.102.101.31': 1, '225.4.14.195': 1, '118.12.44.174': 1, '188.251.57.59': 1, '7.243.230.132': 1, '194.238.44.2': 1, '232.86.226.167': 1, '80.44.95.164': 1, '69.143.191.63': 1, '184.217.201.220': 1, '111.47.85.20': 1, '213.137.138.127': 1, '247.39.242.48': 1, '183.28.164.193': 1, '212.207.163.181': 1, '148.107.2.4': 1, '103.9.178.147': 1, '108.183.187.90': 1, '23.139.244.178': 1, '99.148.66.79': 1, '233.38.123.162': 1, '129.67.213.169': 1, '74.52.131.141': 1, '131.242.128.233': 1, '9.7.96.207': 1, '233.35.37.126': 1, '222.238.48.237': 1, '27.13.85.49': 1, '146.207.210.78': 1, '201.190.202.94': 1, '208.231.99.19': 1, '200.239.48.31': 1, '32.237.81.15': 1, '220.214.102.112': 1, '183.69.93.91': 1, '127.151.151.173': 1, '138.116.121.252': 1, '71.25.0.90': 1, '27.121.213.200': 1, '181.163.91.121': 1, '29.54.113.93': 1, '48.241.178.250': 1, '254.92.200.226': 1, '129.20.247.17': 1, '56.4.176.195': 1, '135.225.174.121': 1, '137.74.140.135': 1, '107.22.65.204': 1, '56.43.145.87': 1, '76.172.73.81': 1, '145.131.115.120': 1, '75.223.32.246': 1, '219.8.142.88': 1}\n",
            "    Processing: purchase={'user_id': 43, 'ip_address': '207.70.6.209', 'event_id': 1, 'num_tickets': 6, 'timestamp': '2023-05-16 16:47:30'}\n",
            "    Processing: purchase={'user_id': 23, 'ip_address': '165.228.255.141', 'event_id': 5, 'num_tickets': 4, 'timestamp': '2023-05-16 16:47:30'}\n",
            "    Processing: purchase={'user_id': 20, 'ip_address': '197.103.86.95', 'event_id': 8, 'num_tickets': 2, 'timestamp': '2023-05-16 16:47:30'}\n",
            "    Processing: purchase={'user_id': 21, 'ip_address': '69.235.23.127', 'event_id': 4, 'num_tickets': 1, 'timestamp': '2023-05-16 16:47:30'}\n",
            "    Processing: purchase={'user_id': 48, 'ip_address': '170.119.77.46', 'event_id': 1, 'num_tickets': 1, 'timestamp': '2023-05-16 16:47:30'}\n",
            "    Processing: purchase={'user_id': 38, 'ip_address': '196.70.67.105', 'event_id': 5, 'num_tickets': 6, 'timestamp': '2023-05-16 16:47:30'}\n",
            "    Processing: purchase={'user_id': 34, 'ip_address': '195.202.79.55', 'event_id': 2, 'num_tickets': 4, 'timestamp': '2023-05-16 16:47:30'}\n",
            "    Processing: purchase={'user_id': 43, 'ip_address': '87.53.250.41', 'event_id': 5, 'num_tickets': 6, 'timestamp': '2023-05-16 16:47:30'}\n",
            "    Processing: purchase={'user_id': 4, 'ip_address': '98.216.27.170', 'event_id': 7, 'num_tickets': 2, 'timestamp': '2023-05-16 16:47:30'}\n",
            "    Processing: purchase={'user_id': 6, 'ip_address': '198.111.196.99', 'event_id': 8, 'num_tickets': 6, 'timestamp': '2023-05-16 16:47:30'}\n",
            "    Processing: purchase={'user_id': 7, 'ip_address': '143.73.194.7', 'event_id': 2, 'num_tickets': 6, 'timestamp': '2023-05-16 16:47:30'}\n",
            "    Processing: purchase={'user_id': 19, 'ip_address': '205.78.173.233', 'event_id': 2, 'num_tickets': 3, 'timestamp': '2023-05-16 16:47:30'}\n",
            "    Processing: purchase={'user_id': 17, 'ip_address': '55.99.132.238', 'event_id': 4, 'num_tickets': 5, 'timestamp': '2023-05-16 16:47:30'}\n",
            "    Processing: purchase={'user_id': 12, 'ip_address': '80.201.28.39', 'event_id': 10, 'num_tickets': 6, 'timestamp': '2023-05-16 16:47:30'}\n",
            "====> Suspicious user:user_id=12, ip_purchase_count={'70.85.66.59': 1, '245.50.190.23': 1, '193.90.33.152': 1, '160.56.135.8': 1, '246.54.177.253': 1, '75.220.31.173': 1, '108.8.176.215': 1, '158.102.101.31': 1, '225.4.14.195': 1, '118.12.44.174': 1, '188.251.57.59': 1, '7.243.230.132': 1, '194.238.44.2': 1, '232.86.226.167': 1, '80.44.95.164': 1, '69.143.191.63': 1, '184.217.201.220': 1, '111.47.85.20': 1, '213.137.138.127': 1, '247.39.242.48': 1, '183.28.164.193': 1, '212.207.163.181': 1, '148.107.2.4': 1, '103.9.178.147': 1, '108.183.187.90': 1, '23.139.244.178': 1, '99.148.66.79': 1, '233.38.123.162': 1, '129.67.213.169': 1, '74.52.131.141': 1, '131.242.128.233': 1, '9.7.96.207': 1, '233.35.37.126': 1, '222.238.48.237': 1, '27.13.85.49': 1, '146.207.210.78': 1, '201.190.202.94': 1, '208.231.99.19': 1, '200.239.48.31': 1, '32.237.81.15': 1, '220.214.102.112': 1, '183.69.93.91': 1, '127.151.151.173': 1, '138.116.121.252': 1, '71.25.0.90': 1, '27.121.213.200': 1, '181.163.91.121': 1, '29.54.113.93': 1, '48.241.178.250': 1, '254.92.200.226': 1, '129.20.247.17': 1, '56.4.176.195': 1, '135.225.174.121': 1, '137.74.140.135': 1, '107.22.65.204': 1, '56.43.145.87': 1, '76.172.73.81': 1, '145.131.115.120': 1, '75.223.32.246': 1, '219.8.142.88': 1, '207.70.6.209': 1, '165.228.255.141': 1, '197.103.86.95': 1, '69.235.23.127': 1, '170.119.77.46': 1, '196.70.67.105': 1, '195.202.79.55': 1, '87.53.250.41': 1, '98.216.27.170': 1, '198.111.196.99': 1, '143.73.194.7': 1, '205.78.173.233': 1, '55.99.132.238': 1, '80.201.28.39': 1}\n",
            "    Processing: purchase={'user_id': 21, 'ip_address': '226.240.157.219', 'event_id': 10, 'num_tickets': 1, 'timestamp': '2023-05-16 16:47:30'}\n",
            "    Processing: purchase={'user_id': 18, 'ip_address': '104.14.199.15', 'event_id': 1, 'num_tickets': 6, 'timestamp': '2023-05-16 16:47:30'}\n",
            "    Processing: purchase={'user_id': 44, 'ip_address': '219.192.3.8', 'event_id': 7, 'num_tickets': 6, 'timestamp': '2023-05-16 16:47:30'}\n",
            "    Processing: purchase={'user_id': 48, 'ip_address': '202.15.45.141', 'event_id': 4, 'num_tickets': 6, 'timestamp': '2023-05-16 16:47:30'}\n",
            "    Processing: purchase={'user_id': 43, 'ip_address': '32.234.161.231', 'event_id': 1, 'num_tickets': 2, 'timestamp': '2023-05-16 16:47:30'}\n",
            "    Processing: purchase={'user_id': 48, 'ip_address': '134.197.232.210', 'event_id': 8, 'num_tickets': 6, 'timestamp': '2023-05-16 16:47:30'}\n",
            "    Processing: purchase={'user_id': 17, 'ip_address': '23.35.171.119', 'event_id': 5, 'num_tickets': 6, 'timestamp': '2023-05-16 16:47:30'}\n",
            "    Processing: purchase={'user_id': 15, 'ip_address': '243.121.142.122', 'event_id': 10, 'num_tickets': 2, 'timestamp': '2023-05-16 16:47:30'}\n",
            "    Processing: purchase={'user_id': 23, 'ip_address': '116.31.54.248', 'event_id': 3, 'num_tickets': 3, 'timestamp': '2023-05-16 16:47:30'}\n",
            "    Processing: purchase={'user_id': 46, 'ip_address': '30.134.175.66', 'event_id': 1, 'num_tickets': 2, 'timestamp': '2023-05-16 16:47:30'}\n",
            "    Processing: purchase={'user_id': 3, 'ip_address': '166.11.126.17', 'event_id': 4, 'num_tickets': 6, 'timestamp': '2023-05-16 16:47:30'}\n",
            "    Processing: purchase={'user_id': 23, 'ip_address': '57.206.130.127', 'event_id': 8, 'num_tickets': 4, 'timestamp': '2023-05-16 16:47:30'}\n",
            "    Processing: purchase={'user_id': 11, 'ip_address': '190.207.7.153', 'event_id': 4, 'num_tickets': 4, 'timestamp': '2023-05-16 16:47:30'}\n",
            "    Processing: purchase={'user_id': 4, 'ip_address': '125.108.125.38', 'event_id': 3, 'num_tickets': 1, 'timestamp': '2023-05-16 16:47:30'}\n",
            "    Processing: purchase={'user_id': 8, 'ip_address': '186.49.196.87', 'event_id': 5, 'num_tickets': 6, 'timestamp': '2023-05-16 16:47:30'}\n",
            "    Processing: purchase={'user_id': 14, 'ip_address': '69.173.20.221', 'event_id': 7, 'num_tickets': 4, 'timestamp': '2023-05-16 16:47:30'}\n",
            "    Processing: purchase={'user_id': 48, 'ip_address': '194.160.222.45', 'event_id': 4, 'num_tickets': 6, 'timestamp': '2023-05-16 16:47:30'}\n",
            "====> Suspicious user:user_id=48, ip_purchase_count={'70.85.66.59': 1, '245.50.190.23': 1, '193.90.33.152': 1, '160.56.135.8': 1, '246.54.177.253': 1, '75.220.31.173': 1, '108.8.176.215': 1, '158.102.101.31': 1, '225.4.14.195': 1, '118.12.44.174': 1, '188.251.57.59': 1, '7.243.230.132': 1, '194.238.44.2': 1, '232.86.226.167': 1, '80.44.95.164': 1, '69.143.191.63': 1, '184.217.201.220': 1, '111.47.85.20': 1, '213.137.138.127': 1, '247.39.242.48': 1, '183.28.164.193': 1, '212.207.163.181': 1, '148.107.2.4': 1, '103.9.178.147': 1, '108.183.187.90': 1, '23.139.244.178': 1, '99.148.66.79': 1, '233.38.123.162': 1, '129.67.213.169': 1, '74.52.131.141': 1, '131.242.128.233': 1, '9.7.96.207': 1, '233.35.37.126': 1, '222.238.48.237': 1, '27.13.85.49': 1, '146.207.210.78': 1, '201.190.202.94': 1, '208.231.99.19': 1, '200.239.48.31': 1, '32.237.81.15': 1, '220.214.102.112': 1, '183.69.93.91': 1, '127.151.151.173': 1, '138.116.121.252': 1, '71.25.0.90': 1, '27.121.213.200': 1, '181.163.91.121': 1, '29.54.113.93': 1, '48.241.178.250': 1, '254.92.200.226': 1, '129.20.247.17': 1, '56.4.176.195': 1, '135.225.174.121': 1, '137.74.140.135': 1, '107.22.65.204': 1, '56.43.145.87': 1, '76.172.73.81': 1, '145.131.115.120': 1, '75.223.32.246': 1, '219.8.142.88': 1, '207.70.6.209': 1, '165.228.255.141': 1, '197.103.86.95': 1, '69.235.23.127': 1, '170.119.77.46': 1, '196.70.67.105': 1, '195.202.79.55': 1, '87.53.250.41': 1, '98.216.27.170': 1, '198.111.196.99': 1, '143.73.194.7': 1, '205.78.173.233': 1, '55.99.132.238': 1, '80.201.28.39': 1, '226.240.157.219': 1, '104.14.199.15': 1, '219.192.3.8': 1, '202.15.45.141': 1, '32.234.161.231': 1, '134.197.232.210': 1, '23.35.171.119': 1, '243.121.142.122': 1, '116.31.54.248': 1, '30.134.175.66': 1, '166.11.126.17': 1, '57.206.130.127': 1, '190.207.7.153': 1, '125.108.125.38': 1, '186.49.196.87': 1, '69.173.20.221': 1, '194.160.222.45': 1}\n",
            "    Processing: purchase={'user_id': 48, 'ip_address': '20.228.22.241', 'event_id': 5, 'num_tickets': 6, 'timestamp': '2023-05-16 16:47:30'}\n",
            "====> Suspicious user:user_id=48, ip_purchase_count={'70.85.66.59': 1, '245.50.190.23': 1, '193.90.33.152': 1, '160.56.135.8': 1, '246.54.177.253': 1, '75.220.31.173': 1, '108.8.176.215': 1, '158.102.101.31': 1, '225.4.14.195': 1, '118.12.44.174': 1, '188.251.57.59': 1, '7.243.230.132': 1, '194.238.44.2': 1, '232.86.226.167': 1, '80.44.95.164': 1, '69.143.191.63': 1, '184.217.201.220': 1, '111.47.85.20': 1, '213.137.138.127': 1, '247.39.242.48': 1, '183.28.164.193': 1, '212.207.163.181': 1, '148.107.2.4': 1, '103.9.178.147': 1, '108.183.187.90': 1, '23.139.244.178': 1, '99.148.66.79': 1, '233.38.123.162': 1, '129.67.213.169': 1, '74.52.131.141': 1, '131.242.128.233': 1, '9.7.96.207': 1, '233.35.37.126': 1, '222.238.48.237': 1, '27.13.85.49': 1, '146.207.210.78': 1, '201.190.202.94': 1, '208.231.99.19': 1, '200.239.48.31': 1, '32.237.81.15': 1, '220.214.102.112': 1, '183.69.93.91': 1, '127.151.151.173': 1, '138.116.121.252': 1, '71.25.0.90': 1, '27.121.213.200': 1, '181.163.91.121': 1, '29.54.113.93': 1, '48.241.178.250': 1, '254.92.200.226': 1, '129.20.247.17': 1, '56.4.176.195': 1, '135.225.174.121': 1, '137.74.140.135': 1, '107.22.65.204': 1, '56.43.145.87': 1, '76.172.73.81': 1, '145.131.115.120': 1, '75.223.32.246': 1, '219.8.142.88': 1, '207.70.6.209': 1, '165.228.255.141': 1, '197.103.86.95': 1, '69.235.23.127': 1, '170.119.77.46': 1, '196.70.67.105': 1, '195.202.79.55': 1, '87.53.250.41': 1, '98.216.27.170': 1, '198.111.196.99': 1, '143.73.194.7': 1, '205.78.173.233': 1, '55.99.132.238': 1, '80.201.28.39': 1, '226.240.157.219': 1, '104.14.199.15': 1, '219.192.3.8': 1, '202.15.45.141': 1, '32.234.161.231': 1, '134.197.232.210': 1, '23.35.171.119': 1, '243.121.142.122': 1, '116.31.54.248': 1, '30.134.175.66': 1, '166.11.126.17': 1, '57.206.130.127': 1, '190.207.7.153': 1, '125.108.125.38': 1, '186.49.196.87': 1, '69.173.20.221': 1, '194.160.222.45': 1, '20.228.22.241': 1}\n",
            "    Processing: purchase={'user_id': 24, 'ip_address': '28.1.37.116', 'event_id': 8, 'num_tickets': 3, 'timestamp': '2023-05-16 16:47:30'}\n",
            "    Processing: purchase={'user_id': 49, 'ip_address': '111.97.35.240', 'event_id': 7, 'num_tickets': 4, 'timestamp': '2023-05-16 16:47:30'}\n",
            "    Processing: purchase={'user_id': 11, 'ip_address': '131.148.65.84', 'event_id': 5, 'num_tickets': 3, 'timestamp': '2023-05-16 16:47:30'}\n",
            "    Processing: purchase={'user_id': 15, 'ip_address': '255.103.61.129', 'event_id': 3, 'num_tickets': 5, 'timestamp': '2023-05-16 16:47:30'}\n",
            "    Processing: purchase={'user_id': 14, 'ip_address': '35.48.219.164', 'event_id': 5, 'num_tickets': 3, 'timestamp': '2023-05-16 16:47:30'}\n",
            "    Processing: purchase={'user_id': 13, 'ip_address': '21.148.13.188', 'event_id': 7, 'num_tickets': 2, 'timestamp': '2023-05-16 16:47:30'}\n",
            "    Processing: purchase={'user_id': 24, 'ip_address': '161.241.235.148', 'event_id': 4, 'num_tickets': 6, 'timestamp': '2023-05-16 16:47:30'}\n",
            "    Processing: purchase={'user_id': 22, 'ip_address': '168.219.193.175', 'event_id': 10, 'num_tickets': 2, 'timestamp': '2023-05-16 16:47:30'}\n"
          ]
        }
      ]
    },
    {
      "cell_type": "markdown",
      "source": [
        "# Section 2: Discord Messages in Cassandra/ScyllaDB"
      ],
      "metadata": {
        "id": "mL4JYhiAM-Rv"
      }
    },
    {
      "cell_type": "code",
      "source": [
        "!pip install cassandra-driver"
      ],
      "metadata": {
        "colab": {
          "base_uri": "https://localhost:8080/"
        },
        "id": "8GAbdvc7MYwI",
        "outputId": "f1c23ef2-3b72-4b34-942b-1c94c1878cca"
      },
      "execution_count": null,
      "outputs": [
        {
          "output_type": "stream",
          "name": "stdout",
          "text": [
            "Looking in indexes: https://pypi.org/simple, https://us-python.pkg.dev/colab-wheels/public/simple/\n",
            "Collecting cassandra-driver\n",
            "  Downloading cassandra_driver-3.27.0-cp310-cp310-manylinux_2_17_x86_64.manylinux2014_x86_64.whl (19.0 MB)\n",
            "\u001b[2K     \u001b[90m━━━━━━━━━━━━━━━━━━━━━━━━━━━━━━━━━━━━━━━━\u001b[0m \u001b[32m19.0/19.0 MB\u001b[0m \u001b[31m43.6 MB/s\u001b[0m eta \u001b[36m0:00:00\u001b[0m\n",
            "\u001b[?25hRequirement already satisfied: six>=1.9 in /usr/local/lib/python3.10/dist-packages (from cassandra-driver) (1.16.0)\n",
            "Collecting geomet<0.3,>=0.1 (from cassandra-driver)\n",
            "  Downloading geomet-0.2.1.post1-py3-none-any.whl (18 kB)\n",
            "Requirement already satisfied: cryptography>=35.0 in /usr/local/lib/python3.10/dist-packages (from cassandra-driver) (40.0.2)\n",
            "Requirement already satisfied: cffi>=1.12 in /usr/local/lib/python3.10/dist-packages (from cryptography>=35.0->cassandra-driver) (1.15.1)\n",
            "Requirement already satisfied: click in /usr/local/lib/python3.10/dist-packages (from geomet<0.3,>=0.1->cassandra-driver) (8.1.3)\n",
            "Requirement already satisfied: pycparser in /usr/local/lib/python3.10/dist-packages (from cffi>=1.12->cryptography>=35.0->cassandra-driver) (2.21)\n",
            "Installing collected packages: geomet, cassandra-driver\n",
            "Successfully installed cassandra-driver-3.27.0 geomet-0.2.1.post1\n"
          ]
        }
      ]
    },
    {
      "cell_type": "code",
      "execution_count": null,
      "metadata": {
        "colab": {
          "base_uri": "https://localhost:8080/",
          "height": 623
        },
        "id": "NhEUijkrMIGa",
        "outputId": "558e2e93-2148-40a9-ee08-b7713259c86c"
      },
      "outputs": [
        {
          "output_type": "stream",
          "name": "stderr",
          "text": [
            "WARNING:cassandra.cluster:Cluster.__init__ called with contact_points specified, but no load_balancing_policy. In the next major version, this will raise an error; please specify a load-balancing policy. (contact_points = ['127.0.0.1'], lbp = None)\n",
            "WARNING:cassandra.cluster:[control connection] Error connecting to 127.0.0.1:9042:\n",
            "Traceback (most recent call last):\n",
            "  File \"cassandra/cluster.py\", line 3538, in cassandra.cluster.ControlConnection._reconnect_internal\n",
            "  File \"cassandra/cluster.py\", line 3560, in cassandra.cluster.ControlConnection._try_connect\n",
            "  File \"cassandra/cluster.py\", line 1630, in cassandra.cluster.Cluster.connection_factory\n",
            "  File \"cassandra/connection.py\", line 850, in cassandra.connection.Connection.factory\n",
            "  File \"/usr/local/lib/python3.10/dist-packages/cassandra/io/asyncorereactor.py\", line 347, in __init__\n",
            "    self._connect_socket()\n",
            "  File \"cassandra/connection.py\", line 917, in cassandra.connection.Connection._connect_socket\n",
            "ConnectionRefusedError: [Errno 111] Tried connecting to [('127.0.0.1', 9042)]. Last error: Connection refused\n",
            "ERROR:cassandra.cluster:Control connection failed to connect, shutting down Cluster:\n",
            "Traceback (most recent call last):\n",
            "  File \"cassandra/cluster.py\", line 1700, in cassandra.cluster.Cluster.connect\n",
            "  File \"cassandra/cluster.py\", line 3504, in cassandra.cluster.ControlConnection.connect\n",
            "  File \"cassandra/cluster.py\", line 3549, in cassandra.cluster.ControlConnection._reconnect_internal\n",
            "cassandra.cluster.NoHostAvailable: ('Unable to connect to any servers', {'127.0.0.1:9042': ConnectionRefusedError(111, \"Tried connecting to [('127.0.0.1', 9042)]. Last error: Connection refused\")})\n"
          ]
        },
        {
          "output_type": "error",
          "ename": "NoHostAvailable",
          "evalue": "ignored",
          "traceback": [
            "\u001b[0;31m---------------------------------------------------------------------------\u001b[0m",
            "\u001b[0;31mNoHostAvailable\u001b[0m                           Traceback (most recent call last)",
            "\u001b[0;32m<ipython-input-6-556b173dadc4>\u001b[0m in \u001b[0;36m<cell line: 11>\u001b[0;34m()\u001b[0m\n\u001b[1;32m      9\u001b[0m \u001b[0mauth_provider\u001b[0m \u001b[0;34m=\u001b[0m \u001b[0mPlainTextAuthProvider\u001b[0m\u001b[0;34m(\u001b[0m\u001b[0musername\u001b[0m\u001b[0;34m=\u001b[0m\u001b[0;34m'cassandra'\u001b[0m\u001b[0;34m,\u001b[0m\u001b[0mpassword\u001b[0m\u001b[0;34m=\u001b[0m\u001b[0;34m'cassandra'\u001b[0m\u001b[0;34m)\u001b[0m\u001b[0;34m\u001b[0m\u001b[0;34m\u001b[0m\u001b[0m\n\u001b[1;32m     10\u001b[0m \u001b[0mcluster\u001b[0m \u001b[0;34m=\u001b[0m \u001b[0mCluster\u001b[0m\u001b[0;34m(\u001b[0m\u001b[0;34m[\u001b[0m\u001b[0;34m'127.0.0.1'\u001b[0m\u001b[0;34m]\u001b[0m\u001b[0;34m,\u001b[0m \u001b[0mauth_provider\u001b[0m\u001b[0;34m=\u001b[0m\u001b[0mauth_provider\u001b[0m\u001b[0;34m)\u001b[0m\u001b[0;34m\u001b[0m\u001b[0;34m\u001b[0m\u001b[0m\n\u001b[0;32m---> 11\u001b[0;31m \u001b[0msession\u001b[0m \u001b[0;34m=\u001b[0m \u001b[0mcluster\u001b[0m\u001b[0;34m.\u001b[0m\u001b[0mconnect\u001b[0m\u001b[0;34m(\u001b[0m\u001b[0;34m)\u001b[0m\u001b[0;34m\u001b[0m\u001b[0;34m\u001b[0m\u001b[0m\n\u001b[0m\u001b[1;32m     12\u001b[0m \u001b[0;34m\u001b[0m\u001b[0m\n\u001b[1;32m     13\u001b[0m \u001b[0;31m# Create a keyspace and table if they do not exist\u001b[0m\u001b[0;34m\u001b[0m\u001b[0;34m\u001b[0m\u001b[0m\n",
            "\u001b[0;32m/usr/local/lib/python3.10/dist-packages/cassandra/cluster.cpython-310-x86_64-linux-gnu.so\u001b[0m in \u001b[0;36mcassandra.cluster.Cluster.connect\u001b[0;34m()\u001b[0m\n",
            "\u001b[0;32m/usr/local/lib/python3.10/dist-packages/cassandra/cluster.cpython-310-x86_64-linux-gnu.so\u001b[0m in \u001b[0;36mcassandra.cluster.Cluster.connect\u001b[0;34m()\u001b[0m\n",
            "\u001b[0;32m/usr/local/lib/python3.10/dist-packages/cassandra/cluster.cpython-310-x86_64-linux-gnu.so\u001b[0m in \u001b[0;36mcassandra.cluster.Cluster.connect\u001b[0;34m()\u001b[0m\n",
            "\u001b[0;32m/usr/local/lib/python3.10/dist-packages/cassandra/cluster.cpython-310-x86_64-linux-gnu.so\u001b[0m in \u001b[0;36mcassandra.cluster.ControlConnection.connect\u001b[0;34m()\u001b[0m\n",
            "\u001b[0;32m/usr/local/lib/python3.10/dist-packages/cassandra/cluster.cpython-310-x86_64-linux-gnu.so\u001b[0m in \u001b[0;36mcassandra.cluster.ControlConnection._reconnect_internal\u001b[0;34m()\u001b[0m\n",
            "\u001b[0;31mNoHostAvailable\u001b[0m: ('Unable to connect to any servers', {'127.0.0.1:9042': ConnectionRefusedError(111, \"Tried connecting to [('127.0.0.1', 9042)]. Last error: Connection refused\")})"
          ]
        }
      ],
      "source": [
        "import uuid\n",
        "from datetime import datetime\n",
        "from cassandra.cluster import Cluster\n",
        "from cassandra.auth import PlainTextAuthProvider\n",
        "\n",
        "\"\"\"Connect to ScyllaDB or Cassandra server\n",
        "--> TODO: To run this, need to start a Cassandra or ScyllaDB server\n",
        "          and replace below server and credentials\"\"\"\n",
        "auth_provider = PlainTextAuthProvider(username='cassandra',password='cassandra')\n",
        "cluster = Cluster(['127.0.0.1'], auth_provider=auth_provider)\n",
        "session = cluster.connect()\n",
        "\n",
        "# Create a keyspace and table if they do not exist\n",
        "session.execute(\"\"\"\n",
        "    CREATE KEYSPACE IF NOT EXISTS messaging_app\n",
        "    WITH replication = {'class': 'SimpleStrategy', 'replication_factor': 1};\n",
        "\"\"\")\n",
        "\n",
        "session.execute(\"\"\"\n",
        "    CREATE TABLE IF NOT EXISTS messaging_app.messages (\n",
        "        channel_id bigint,\n",
        "        bucket int,\n",
        "        message_id bigint,\n",
        "        author_id bigint,\n",
        "        content text,\n",
        "        PRIMARY KEY ((channel_id, bucket), message_id)\n",
        "    ) WITH CLUSTERING ORDER BY (message_id DESC);\n",
        "\"\"\")\n",
        "\n",
        "# Function to store a new message\n",
        "def store_message(channel_id, author_id, content):\n",
        "    bucket = 0  # For simplicity, we use a single bucket\n",
        "    message_id = int(datetime.utcnow().timestamp() * 1000) # Use Unix timestamp\n",
        "\n",
        "    query = \"\"\"\n",
        "        INSERT INTO messaging_app.messages\n",
        "              (channel_id, bucket, message_id, author_id, content)\n",
        "        VALUES (%s, %s, %s, %s, %s);\n",
        "    \"\"\"\n",
        "    session.execute(query, (channel_id, bucket, message_id, author_id, content))\n",
        "    print(\"Message stored successfully!\")\n",
        "\n",
        "# Function to retrieve the last 'n' messages for a given channel\n",
        "def retrieve_messages(channel_id, n=5):\n",
        "    bucket = 0  # For simplicity, we use a single bucket\n",
        "    query = \"\"\"\n",
        "        SELECT * FROM messaging_app.messages\n",
        "        WHERE channel_id=%s AND bucket=%s\n",
        "        LIMIT %s;\n",
        "    \"\"\"\n",
        "    rows = session.execute(query, (channel_id, bucket, n))\n",
        "    messages=[f\"{row.message_id}|{row.author_id}: {row.content}\" for row in rows]\n",
        "\n",
        "    if messages:\n",
        "        print('\\n'.join(messages))\n",
        "    else:\n",
        "        print(f\"No messages found for channel {channel_id}\")\n",
        "\n",
        "# Example usage\n",
        "store_message(1, 1001, 'Hello, world!')\n",
        "retrieve_messages(1, n=5)\n",
        "\n"
      ]
    }
  ]
}